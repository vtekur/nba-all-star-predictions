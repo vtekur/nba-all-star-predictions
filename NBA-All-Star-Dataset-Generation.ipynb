{
 "cells": [
  {
   "cell_type": "code",
   "execution_count": 40,
   "metadata": {},
   "outputs": [],
   "source": [
    "from bs4 import BeautifulSoup\n",
    "import requests\n",
    "from urllib.parse import urljoin\n",
    "import re\n",
    "import numpy as np\n",
    "import pandas as pd\n",
    "import json"
   ]
  },
  {
   "cell_type": "markdown",
   "metadata": {},
   "source": [
    "## Dataset Generation Functions\n",
    "Stats scraped from [Basketball Reference](https://www.basketball-reference.com/) and [StatMuse](https://www.statmuse.com/nba)"
   ]
  },
  {
   "cell_type": "code",
   "execution_count": 41,
   "metadata": {},
   "outputs": [],
   "source": [
    "team_abbrevs = {'ATL': {'name': 'atlanta-hawks', 'conference': 'East'},'BRK': {'name': 'brooklyn-nets', 'conference': 'East'},'BOS': {'name': 'boston-celtics', 'conference': 'East'},'CHA': {'name': 'charlotte-bobcats', 'conference': 'East'},'CHO': {'name': 'charlotte-hornets', 'conference': 'East'},'CHI': {'name': 'chicago-bulls', 'conference': 'East'},'CHH': {'name': 'charlotte-hornets', 'conference': 'East'},'CLE': {'name': 'cleveland-cavaliers', 'conference': 'East'},'DAL': {'name': 'dallas-mavericks', 'conference': 'West'},'DEN': {'name': 'denver-nuggets', 'conference': 'West'},'DET': {'name': 'detroit-pistons', 'conference': 'East'},'GSW': {'name': 'golden-state-warriors', 'conference': 'West'},'HOU': {'name': 'houston-rockets', 'conference': 'West'},'IND': {'name': 'indiana-pacers', 'conference': 'East'},'KCK': {'name': 'kansas-city-kings', 'conference': 'West'},'LAC': {'name': 'los-angeles-clippers', 'conference': 'West'},'LAL': {'name': 'los-angeles-lakers', 'conference': 'West'},'MEM': {'name': 'memphis-grizzlies', 'conference': 'West'},'MIA': {'name': 'miami-heat', 'conference': 'East'},'MIL': {'name': 'milwaukee-bucks', 'conference': 'East'},'MIN': {'name': 'minnesota-timberwolves', 'conference': 'West'},'NJN': {'name': 'new-jersey-nets', 'conference': 'East'},'NOH': {'name': 'new-orleans-hornets', 'conference': 'West'},'NOP': {'name': 'new-orleans-pelicans', 'conference': 'West'},'NOK':{'name': 'new-orleans-hornets', 'conference': 'West'},'NYK': {'name': 'new-york-knicks', 'conference': 'East'},'OKC': {'name': 'oklahoma-city-thunder', 'conference': 'West'},'ORL': {'name': 'orlando-magic', 'conference': 'East'},'PHI': {'name': 'philadelphia-76ers', 'conference': 'East'},'PHO': {'name': 'phoenix-suns', 'conference': 'West'},'POR': {'name': 'portland-trail-blazers', 'conference': 'West'},'SEA': {'name': 'seattle-supersonics', 'conference': 'West'},'SAC': {'name': 'sacramento-kings', 'conference': 'West'},'SAS': {'name': 'san-antonio-spurs', 'conference': 'West'},'SDC': {'name': 'san-diego-clippers', 'conference': 'West'},'TOR': {'name': 'toronto-raptors', 'conference': 'East'},'UTA': {'name': 'utah-jazz', 'conference': 'West'},'VAN': {'name': 'vancouver-grizzlies', 'conference': 'West'},'WAS': {'name': 'washington-wizards', 'conference': 'East'},'WSB': {'name': 'washington-bullets', 'conference': 'East'}}\n",
    "def get_soup_from_url(url):\n",
    "    return BeautifulSoup(requests.get(url).text, 'lxml')\n",
    "def statmuse_get_stats_for_player(name, season, team, player_dict): \n",
    "    season_start = season.split('-')[0]\n",
    "    if season_start != '1999': \n",
    "        season_end = season_start[:2] + season.split('-')[1]\n",
    "    else: \n",
    "        season_end = '2000'\n",
    "    first_name = name.split(' ')[0]\n",
    "    last_name = name.split(' ')[1]\n",
    "    search_query = f'https://www.statmuse.com/nba/ask/{first_name}-{last_name}-nba-stats-from-october-{season_start}-to-january-{season_end}'\n",
    "    team_name = team_abbrevs.get(team).get('name')\n",
    "    team_search_query = f'https://www.statmuse.com/nba/ask/{team_name}-winning-percentage-from-october-{season_start}-to-january-{season_end}'\n",
    "    soup = get_soup_from_url(search_query)\n",
    "    team_soup = get_soup_from_url(team_search_query)\n",
    "    data_list = [div.find('visual-answer').get('answer') for div in soup.find_all('div') if div.find('visual-answer')]\n",
    "    team_data_list = [div.find('visual-answer').get('answer') for div in team_soup.find_all('div') if div.find('visual-answer')]\n",
    "    if len(data_list) == 0 or len(team_data_list) == 0: \n",
    "        return False\n",
    "    data = json.loads(data_list[0])\n",
    "    team_data = json.loads(team_data_list[0])\n",
    "    item = data.get('visual').get('detail')[0].get('grids')[0].get('rows')[0]\n",
    "    team_item = team_data.get('visual').get('detail')[0].get('grids')[0].get('rows')[0]\n",
    "    if 'PPG' in item and item.get('PPG').get('value'): \n",
    "        player_dict['PPG'] = float(item.get('PPG').get('value'))\n",
    "    else: \n",
    "        player_dict['PPG'] = 0\n",
    "    if 'PPG' in item and item.get('RPG').get('value'): \n",
    "        player_dict['RPG'] = float(item.get('RPG').get('value'))\n",
    "    else: \n",
    "        player_dict['RPG'] = 0\n",
    "    if 'APG' in item and item.get('APG').get('value'): \n",
    "        player_dict['APG'] = float(item.get('APG').get('value'))\n",
    "    else: \n",
    "        player_dict['APG'] = 0\n",
    "    if 'BPG' in item and item.get('BPG').get('value'): \n",
    "        player_dict['BPG'] = float(item.get('BPG').get('value'))\n",
    "    else: \n",
    "        player_dict['BPG'] = 0\n",
    "    if 'SPG' in item and item.get('SPG').get('value'): \n",
    "        player_dict['SPG'] = float(item.get('SPG').get('value'))\n",
    "    else: \n",
    "        player_dict['SPG'] = 0\n",
    "    if 'GP' in item and item.get('GP').get('value'): \n",
    "        player_dict['GP'] = float(item.get('GP').get('value'))\n",
    "    else: \n",
    "        player_dict['GP'] = 0\n",
    "    if 'W%' in team_item and team_item.get('W%').get('value'): \n",
    "        player_dict['W%'] = float(team_item.get('W%').get('value'))\n",
    "    else: \n",
    "        player_dict['W%'] = 0\n",
    "    soup.decompose()\n",
    "    team_soup.decompose()\n",
    "    return True\n",
    "def add_players(soup, rows_list, is_all_star, position):\n",
    "    searching = True\n",
    "    count = 0\n",
    "    while searching: \n",
    "        for row in soup.find_all('tr'): \n",
    "            if row.find('th') and row.find_all('th')[0].get('data-stat') == 'ranker' and row.find('td'): \n",
    "                current_row = {}\n",
    "                current_row['All-Star'] = is_all_star\n",
    "                current_row['Position'] = position\n",
    "                for stat in row.find_all('td'): \n",
    "                    if stat.get('data-stat') == 'player':\n",
    "                        name = stat.text\n",
    "                        current_row['Player'] = name + ' '\n",
    "                    elif stat.get('data-stat') == 'season':\n",
    "                        season = stat.text\n",
    "                        current_row['Player'] += season\n",
    "                        #print(current_row['Player'])\n",
    "                    elif stat.get('data-stat') == 'age':\n",
    "                        current_row['Age'] = stat.text\n",
    "                    elif stat.get('data-stat') == 'team_id': \n",
    "                        if stat.find('a'):\n",
    "                            team = stat.find('a').text\n",
    "                            current_row['Conference'] = team_abbrevs.get(team).get('conference')\n",
    "                        else: \n",
    "                            team = 'TOT'\n",
    "                if team == 'TOT': \n",
    "                    res = None\n",
    "                else:\n",
    "                    res = statmuse_get_stats_for_player(name,season,team,current_row)\n",
    "                if res:\n",
    "                    print(count)\n",
    "                    count+=1\n",
    "                    rows_list.append(current_row)\n",
    "        searching = False\n",
    "        for link in soup.find_all('a'): \n",
    "            if link.text == 'Next page':\n",
    "                soup.decompose()\n",
    "                soup = get_soup_from_url(urljoin(base_url, link.get('href')))\n",
    "                searching = True"
   ]
  },
  {
   "cell_type": "code",
   "execution_count": 42,
   "metadata": {},
   "outputs": [],
   "source": [
    "all_star_guards_url = \"https://www.basketball-reference.com/play-index/psl_finder.cgi?request=1&match=single&type=totals&per_minute_base=36&per_poss_base=100&season_start=1&season_end=-1&lg_id=NBA&age_min=0&age_max=99&is_playoffs=N&height_min=0&height_max=99&year_min=1980&birth_country_is=Y&is_as=Y&as_comp=gt&as_val=0&pos_is_g=Y&pos_is_gf=Y&order_by=season\"\n",
    "all_star_bigs_url = \"https://www.basketball-reference.com/play-index/psl_finder.cgi?request=1&match=single&type=totals&per_minute_base=36&per_poss_base=100&season_start=1&season_end=-1&lg_id=NBA&age_min=0&age_max=99&is_playoffs=N&height_min=0&height_max=99&year_min=1980&birth_country_is=Y&is_as=Y&as_comp=gt&as_val=0&pos_is_f=Y&pos_is_fg=Y&pos_is_fc=Y&pos_is_c=Y&pos_is_cf=Y&order_by=season\"\n",
    "non_all_star_guards_url = \"https://www.basketball-reference.com/play-index/psl_finder.cgi?request=1&match=single&type=totals&per_minute_base=36&per_poss_base=100&season_start=1&season_end=-1&lg_id=NBA&age_min=0&age_max=99&is_playoffs=N&height_min=0&height_max=99&year_min=1980&year_max=2019&birth_country_is=Y&is_as=N&as_comp=gt&as_val=0&pos_is_f=Y&pos_is_fg=Y&pos_is_fc=Y&pos_is_c=Y&pos_is_cf=Y&order_by=season\"\n",
    "non_all_star_bigs_url = \"https://www.basketball-reference.com/play-index/psl_finder.cgi?request=1&match=single&type=totals&per_minute_base=36&per_poss_base=100&season_start=1&season_end=-1&lg_id=NBA&age_min=0&age_max=99&is_playoffs=N&height_min=0&height_max=99&year_min=1980&birth_country_is=Y&is_as=N&as_comp=gt&as_val=0&pos_is_f=Y&pos_is_fg=Y&pos_is_fc=Y&pos_is_c=Y&pos_is_cf=Y&order_by=season\"\n",
    "base_url = requests.get(all_star_guards_url).url\n",
    "all_star_guards_soup = get_soup_from_url(all_star_guards_url)\n",
    "non_all_star_guards_soup = get_soup_from_url(non_all_star_guards_url)\n",
    "all_star_bigs_soup = get_soup_from_url(all_star_bigs_url)\n",
    "non_all_star_bigs_soup = get_soup_from_url(non_all_star_bigs_url)"
   ]
  },
  {
   "cell_type": "code",
   "execution_count": null,
   "metadata": {},
   "outputs": [],
   "source": [
    "rows_list = []\n",
    "add_players(all_star_guards_soup, rows_list, True, 'G')\n",
    "add_players(all_star_bigs_soup, rows_list, True, 'F/C')\n",
    "add_players(non_all_star_guards_soup, rows_list, False, 'G')\n",
    "add_players(non_all_star_bigs_soup, rows_list, False, 'F/C')"
   ]
  },
  {
   "cell_type": "code",
   "execution_count": 45,
   "metadata": {},
   "outputs": [],
   "source": [
    "dataset = pd.DataFrame(rows_list)\n",
    "dataset.set_index('Player')\n",
    "dataset.to_csv('nba_player_data_through_jan.csv')"
   ]
  },
  {
   "cell_type": "code",
   "execution_count": null,
   "metadata": {},
   "outputs": [],
   "source": []
  }
 ],
 "metadata": {
  "kernelspec": {
   "display_name": "nba-data-env",
   "language": "python",
   "name": "nba-data-env"
  },
  "language_info": {
   "codemirror_mode": {
    "name": "ipython",
    "version": 3
   },
   "file_extension": ".py",
   "mimetype": "text/x-python",
   "name": "python",
   "nbconvert_exporter": "python",
   "pygments_lexer": "ipython3",
   "version": "3.7.6"
  }
 },
 "nbformat": 4,
 "nbformat_minor": 2
}
